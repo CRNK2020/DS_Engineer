{
 "cells": [
  {
   "cell_type": "code",
   "execution_count": 1,
   "id": "34717cfd",
   "metadata": {},
   "outputs": [],
   "source": [
    "##1.\tGet the input for 2 variables though “input” function and pass them to a function to return the addition of two variables"
   ]
  },
  {
   "cell_type": "code",
   "execution_count": 12,
   "id": "cdc788cf",
   "metadata": {},
   "outputs": [
    {
     "name": "stdout",
     "output_type": "stream",
     "text": [
      "Enter the number for a:12\n",
      "Enter the number for b:22\n",
      "1222\n",
      "30\n"
     ]
    }
   ],
   "source": [
    "a = input ('Enter the number for a:')\n",
    "b = input ('Enter the number for b:')\n",
    "c = 0;\n",
    "\n",
    "def add(x, y):\n",
    "    z=x+y\n",
    "    print(z)\n",
    "    \n",
    "add(a,b)\n",
    "\n",
    "a = 10\n",
    "b = 20\n",
    "c = a+b\n",
    "print(c)"
   ]
  },
  {
   "cell_type": "code",
   "execution_count": 13,
   "id": "1afc94ad",
   "metadata": {},
   "outputs": [],
   "source": [
    "##2.\tWhat happens if we try to add an int with str and vice versa. Please print out the error"
   ]
  },
  {
   "cell_type": "code",
   "execution_count": 14,
   "id": "48c4eba5",
   "metadata": {},
   "outputs": [
    {
     "ename": "TypeError",
     "evalue": "unsupported operand type(s) for +: 'int' and 'str'",
     "output_type": "error",
     "traceback": [
      "\u001b[1;31m---------------------------------------------------------------------------\u001b[0m",
      "\u001b[1;31mTypeError\u001b[0m                                 Traceback (most recent call last)",
      "\u001b[1;32m~\\AppData\\Local\\Temp/ipykernel_28776/4154554899.py\u001b[0m in \u001b[0;36m<module>\u001b[1;34m\u001b[0m\n\u001b[0;32m      1\u001b[0m \u001b[0ma\u001b[0m \u001b[1;33m=\u001b[0m \u001b[1;36m10\u001b[0m\u001b[1;33m\u001b[0m\u001b[1;33m\u001b[0m\u001b[0m\n\u001b[0;32m      2\u001b[0m \u001b[0mb\u001b[0m \u001b[1;33m=\u001b[0m \u001b[1;34m'Nanda'\u001b[0m\u001b[1;33m\u001b[0m\u001b[1;33m\u001b[0m\u001b[0m\n\u001b[1;32m----> 3\u001b[1;33m \u001b[0mc\u001b[0m \u001b[1;33m=\u001b[0m \u001b[0ma\u001b[0m\u001b[1;33m+\u001b[0m\u001b[0mb\u001b[0m\u001b[1;33m\u001b[0m\u001b[1;33m\u001b[0m\u001b[0m\n\u001b[0m\u001b[0;32m      4\u001b[0m \u001b[0mprint\u001b[0m\u001b[1;33m(\u001b[0m\u001b[0mc\u001b[0m\u001b[1;33m)\u001b[0m\u001b[1;33m\u001b[0m\u001b[1;33m\u001b[0m\u001b[0m\n",
      "\u001b[1;31mTypeError\u001b[0m: unsupported operand type(s) for +: 'int' and 'str'"
     ]
    }
   ],
   "source": [
    "a = 10\n",
    "b = 'Nanda'\n",
    "c = a+b\n",
    "print(c)"
   ]
  },
  {
   "cell_type": "code",
   "execution_count": 15,
   "id": "bb6a1332",
   "metadata": {},
   "outputs": [
    {
     "ename": "TypeError",
     "evalue": "can only concatenate str (not \"int\") to str",
     "output_type": "error",
     "traceback": [
      "\u001b[1;31m---------------------------------------------------------------------------\u001b[0m",
      "\u001b[1;31mTypeError\u001b[0m                                 Traceback (most recent call last)",
      "\u001b[1;32m~\\AppData\\Local\\Temp/ipykernel_28776/478139370.py\u001b[0m in \u001b[0;36m<module>\u001b[1;34m\u001b[0m\n\u001b[0;32m      1\u001b[0m \u001b[0ma\u001b[0m \u001b[1;33m=\u001b[0m \u001b[1;34m'Nanda'\u001b[0m\u001b[1;33m\u001b[0m\u001b[1;33m\u001b[0m\u001b[0m\n\u001b[0;32m      2\u001b[0m \u001b[0mb\u001b[0m \u001b[1;33m=\u001b[0m \u001b[1;36m10\u001b[0m\u001b[1;33m\u001b[0m\u001b[1;33m\u001b[0m\u001b[0m\n\u001b[1;32m----> 3\u001b[1;33m \u001b[0mc\u001b[0m \u001b[1;33m=\u001b[0m \u001b[0ma\u001b[0m\u001b[1;33m+\u001b[0m\u001b[0mb\u001b[0m\u001b[1;33m\u001b[0m\u001b[1;33m\u001b[0m\u001b[0m\n\u001b[0m\u001b[0;32m      4\u001b[0m \u001b[0mprint\u001b[0m\u001b[1;33m(\u001b[0m\u001b[0mc\u001b[0m\u001b[1;33m)\u001b[0m\u001b[1;33m\u001b[0m\u001b[1;33m\u001b[0m\u001b[0m\n",
      "\u001b[1;31mTypeError\u001b[0m: can only concatenate str (not \"int\") to str"
     ]
    }
   ],
   "source": [
    "a = 'Nanda'\n",
    "b = 10\n",
    "c = a+b\n",
    "print(c)"
   ]
  },
  {
   "cell_type": "code",
   "execution_count": 16,
   "id": "5f498e9c",
   "metadata": {},
   "outputs": [],
   "source": [
    "## 3.\tCreate a string variable for the word “Data Science” and see if the letter “s” is present in it using membership operators"
   ]
  },
  {
   "cell_type": "code",
   "execution_count": 17,
   "id": "3031fa03",
   "metadata": {},
   "outputs": [
    {
     "name": "stdout",
     "output_type": "stream",
     "text": [
      "False\n"
     ]
    }
   ],
   "source": [
    "str = 'Data Science'\n",
    "print (\"s\" in str)"
   ]
  },
  {
   "cell_type": "code",
   "execution_count": 18,
   "id": "9474ab11",
   "metadata": {},
   "outputs": [
    {
     "name": "stdout",
     "output_type": "stream",
     "text": [
      "True\n"
     ]
    }
   ],
   "source": [
    "print (\"S\" in str)"
   ]
  },
  {
   "cell_type": "code",
   "execution_count": 20,
   "id": "1b97cdb1",
   "metadata": {},
   "outputs": [],
   "source": [
    "##4.\tWrite a function and pass a number list as an argument to the function. And return True if the first and last number of a given list is same. If numbers are different then return False"
   ]
  },
  {
   "cell_type": "code",
   "execution_count": 28,
   "id": "548c5b04",
   "metadata": {},
   "outputs": [
    {
     "name": "stdout",
     "output_type": "stream",
     "text": [
      "TRUE\n",
      "FALSE\n",
      "FALSE\n",
      "TRUE\n"
     ]
    }
   ],
   "source": [
    "list1 = [12, 13, 14, 12]\n",
    "j = list1[0]\n",
    "\n",
    "def fun(arr):\n",
    "    for i in arr:\n",
    "        if j == i:\n",
    "            print('TRUE')\n",
    "        else:\n",
    "            print('FALSE')\n",
    "        \n",
    "fun(list1)        "
   ]
  },
  {
   "cell_type": "code",
   "execution_count": 29,
   "id": "0a7f4504",
   "metadata": {},
   "outputs": [],
   "source": [
    "##5.\tIterate the given list of numbers (l1) and print only those numbers which are divisible by 5. (l1 = [10, 20, 33, 46, 55])"
   ]
  },
  {
   "cell_type": "code",
   "execution_count": 35,
   "id": "f3f96465",
   "metadata": {},
   "outputs": [
    {
     "name": "stdout",
     "output_type": "stream",
     "text": [
      "10\n",
      "25\n",
      "40\n"
     ]
    }
   ],
   "source": [
    "list1 = [10, 25, 38, 40]\n",
    "\n",
    "for i in list1:\n",
    "    if(i%5):\n",
    "        continue\n",
    "    print(i)"
   ]
  },
  {
   "cell_type": "code",
   "execution_count": 36,
   "id": "eaccbf88",
   "metadata": {},
   "outputs": [],
   "source": [
    "##6.\tWrite a program to create function calculation() such that it can accept two variables and calculate addition and subtraction. Also, it must return both addition and subtraction in a single return call"
   ]
  },
  {
   "cell_type": "code",
   "execution_count": 40,
   "id": "ef7e1c64",
   "metadata": {},
   "outputs": [
    {
     "data": {
      "text/plain": [
       "(30, 10)"
      ]
     },
     "execution_count": 40,
     "metadata": {},
     "output_type": "execute_result"
    }
   ],
   "source": [
    "def calculation(num1, num2):\n",
    "    x = num1 + num2\n",
    "    y = num1 - num2\n",
    "    return (x, y)\n",
    "\n",
    "calculation(20, 10)\n"
   ]
  },
  {
   "cell_type": "code",
   "execution_count": 42,
   "id": "75fd487b",
   "metadata": {},
   "outputs": [],
   "source": [
    "##7.\tWrite a program to demonstrate the following Syntax error\n",
    "##a.\tSyntaxError: non-default argument follows default argument"
   ]
  },
  {
   "cell_type": "code",
   "execution_count": 43,
   "id": "a748e021",
   "metadata": {},
   "outputs": [
    {
     "ename": "SyntaxError",
     "evalue": "non-default argument follows default argument (Temp/ipykernel_28776/3915159343.py, line 1)",
     "output_type": "error",
     "traceback": [
      "\u001b[1;36m  File \u001b[1;32m\"C:\\Users\\crnan\\AppData\\Local\\Temp/ipykernel_28776/3915159343.py\"\u001b[1;36m, line \u001b[1;32m1\u001b[0m\n\u001b[1;33m    def fun(x2 = \"Good morning\", x1):\u001b[0m\n\u001b[1;37m                                   ^\u001b[0m\n\u001b[1;31mSyntaxError\u001b[0m\u001b[1;31m:\u001b[0m non-default argument follows default argument\n"
     ]
    }
   ],
   "source": [
    "def fun(x2 = \"Good morning\", x1):\n",
    "    print(\"Hello\", x1, x2)"
   ]
  },
  {
   "cell_type": "code",
   "execution_count": 44,
   "id": "c120c4fa",
   "metadata": {},
   "outputs": [],
   "source": [
    "##8.\tWhat’s recursion? Explain in your own words and write a program to create a recursive function to calculate the sum of numbers from 0 to 10"
   ]
  },
  {
   "cell_type": "code",
   "execution_count": 45,
   "id": "bf482f0f",
   "metadata": {},
   "outputs": [
    {
     "name": "stdout",
     "output_type": "stream",
     "text": [
      "Factorial of 10 is 3628800\n"
     ]
    }
   ],
   "source": [
    "def recursion(x):\n",
    "    if x == 1:\n",
    "        return x\n",
    "    else:\n",
    "        return (x * recursion(x-1))\n",
    "    \n",
    "num = 10\n",
    "print('Factorial of', num, 'is', recursion(num))"
   ]
  },
  {
   "cell_type": "code",
   "execution_count": 46,
   "id": "034274a6",
   "metadata": {},
   "outputs": [],
   "source": [
    "##9.\tUse filter and lambda function to calculate square for below numbers only if they are odd number\n",
    "##a.\t[12, 11, 53, 22, 21, 77, 87, 88, 98]"
   ]
  },
  {
   "cell_type": "code",
   "execution_count": 50,
   "id": "80ddd9fd",
   "metadata": {},
   "outputs": [
    {
     "name": "stdout",
     "output_type": "stream",
     "text": [
      "Applying the filter operation:  [11, 53, 21, 77, 87]\n"
     ]
    }
   ],
   "source": [
    "my_list = [12, 11, 53, 22, 21, 77, 87, 88, 98]\n",
    "fil = list(filter(lambda x : x % 2 != 0, my_list))\n",
    "print('Applying the filter operation: ', fil)"
   ]
  },
  {
   "cell_type": "code",
   "execution_count": 51,
   "id": "516be530",
   "metadata": {},
   "outputs": [],
   "source": [
    "##Write a function (not a lambda function) and use it to demonstrate an example for map function (any logical function of your choice)"
   ]
  },
  {
   "cell_type": "code",
   "execution_count": 57,
   "id": "f740ee1c",
   "metadata": {},
   "outputs": [
    {
     "name": "stdout",
     "output_type": "stream",
     "text": [
      "['1', '0', '1', '1', '1', '0']\n"
     ]
    }
   ],
   "source": [
    "def fun(var):\n",
    "    letters = ['1', '0']\n",
    "    if (var and letters):\n",
    "        return 1\n",
    "    elif (var or letters):\n",
    "        return 2\n",
    "    else:\n",
    "        return 3\n",
    "    \n",
    "seq = ['1','0','1','1','1','0']\n",
    "fil = list(filter(fun,seq))\n",
    "print (fil)"
   ]
  },
  {
   "cell_type": "code",
   "execution_count": null,
   "id": "bb96adf2",
   "metadata": {},
   "outputs": [],
   "source": []
  }
 ],
 "metadata": {
  "kernelspec": {
   "display_name": "Python 3 (ipykernel)",
   "language": "python",
   "name": "python3"
  },
  "language_info": {
   "codemirror_mode": {
    "name": "ipython",
    "version": 3
   },
   "file_extension": ".py",
   "mimetype": "text/x-python",
   "name": "python",
   "nbconvert_exporter": "python",
   "pygments_lexer": "ipython3",
   "version": "3.9.7"
  }
 },
 "nbformat": 4,
 "nbformat_minor": 5
}
