{
 "cells": [
  {
   "cell_type": "code",
   "execution_count": 1,
   "id": "6127c865",
   "metadata": {},
   "outputs": [],
   "source": [
    "import keyword"
   ]
  },
  {
   "cell_type": "code",
   "execution_count": 2,
   "id": "f3575a33",
   "metadata": {},
   "outputs": [
    {
     "data": {
      "text/plain": [
       "['False',\n",
       " 'None',\n",
       " 'True',\n",
       " '__peg_parser__',\n",
       " 'and',\n",
       " 'as',\n",
       " 'assert',\n",
       " 'async',\n",
       " 'await',\n",
       " 'break',\n",
       " 'class',\n",
       " 'continue',\n",
       " 'def',\n",
       " 'del',\n",
       " 'elif',\n",
       " 'else',\n",
       " 'except',\n",
       " 'finally',\n",
       " 'for',\n",
       " 'from',\n",
       " 'global',\n",
       " 'if',\n",
       " 'import',\n",
       " 'in',\n",
       " 'is',\n",
       " 'lambda',\n",
       " 'nonlocal',\n",
       " 'not',\n",
       " 'or',\n",
       " 'pass',\n",
       " 'raise',\n",
       " 'return',\n",
       " 'try',\n",
       " 'while',\n",
       " 'with',\n",
       " 'yield']"
      ]
     },
     "execution_count": 2,
     "metadata": {},
     "output_type": "execute_result"
    }
   ],
   "source": [
    "keyword.kwlist"
   ]
  },
  {
   "cell_type": "code",
   "execution_count": 5,
   "id": "937ef58f",
   "metadata": {},
   "outputs": [],
   "source": [
    "import os\n",
    "import pandas as pd\n",
    "import numpy as np"
   ]
  },
  {
   "cell_type": "code",
   "execution_count": 6,
   "id": "6d15346d",
   "metadata": {},
   "outputs": [],
   "source": [
    "import my_package"
   ]
  },
  {
   "cell_type": "code",
   "execution_count": 8,
   "id": "66601d8d",
   "metadata": {},
   "outputs": [],
   "source": [
    "from my_package import test_package as TP"
   ]
  },
  {
   "cell_type": "code",
   "execution_count": 9,
   "id": "73567114",
   "metadata": {},
   "outputs": [
    {
     "name": "stdout",
     "output_type": "stream",
     "text": [
      "NANDA\n"
     ]
    }
   ],
   "source": [
    "print(TP.NAME)"
   ]
  },
  {
   "cell_type": "code",
   "execution_count": 14,
   "id": "e16bfb8a",
   "metadata": {},
   "outputs": [],
   "source": [
    "## 2.\tCreate the string, int and float variable and delete them all in the next cell"
   ]
  },
  {
   "cell_type": "code",
   "execution_count": 12,
   "id": "bfa0515f",
   "metadata": {},
   "outputs": [
    {
     "name": "stdout",
     "output_type": "stream",
     "text": [
      "10 1.0 Welcome\n",
      "1.0 Welcome\n",
      "Welcome\n"
     ]
    }
   ],
   "source": [
    "var1 = 10\n",
    "Var2 = 1.0\n",
    "Var3 = 'Welcome'\n",
    "print (var1, Var2, Var3)\n",
    "del var1\n",
    "print (Var2, Var3)\n",
    "del Var2\n",
    "print (Var3)\n",
    "del Var3\n",
    "##print (var1, Var2, Var3)"
   ]
  },
  {
   "cell_type": "code",
   "execution_count": 15,
   "id": "9dfd0e10",
   "metadata": {},
   "outputs": [],
   "source": [
    "##3.\tWhat’s the result of assigning a value to a ‘keyword’?\n",
    "##a.\tPlease highlight the error"
   ]
  },
  {
   "cell_type": "code",
   "execution_count": 16,
   "id": "2457f88c",
   "metadata": {},
   "outputs": [
    {
     "ename": "SyntaxError",
     "evalue": "invalid syntax (Temp/ipykernel_33968/4032510782.py, line 1)",
     "output_type": "error",
     "traceback": [
      "\u001b[1;36m  File \u001b[1;32m\"C:\\Users\\crnan\\AppData\\Local\\Temp/ipykernel_33968/4032510782.py\"\u001b[1;36m, line \u001b[1;32m1\u001b[0m\n\u001b[1;33m    del = 2\u001b[0m\n\u001b[1;37m        ^\u001b[0m\n\u001b[1;31mSyntaxError\u001b[0m\u001b[1;31m:\u001b[0m invalid syntax\n"
     ]
    }
   ],
   "source": [
    "del = 2"
   ]
  },
  {
   "cell_type": "code",
   "execution_count": 17,
   "id": "4c433a5e",
   "metadata": {},
   "outputs": [],
   "source": [
    "##4.\tHow to write a multi-line statement and assign it to a variable (Note: Without using a backslash “\\” at the end of each line)"
   ]
  },
  {
   "cell_type": "code",
   "execution_count": 19,
   "id": "83e1f95a",
   "metadata": {},
   "outputs": [
    {
     "name": "stdout",
     "output_type": "stream",
     "text": [
      "145\n"
     ]
    }
   ],
   "source": [
    "Val = (1+2+3+4+5+\n",
    "6+7+8+9+100)\n",
    "print(Val)"
   ]
  },
  {
   "cell_type": "code",
   "execution_count": 20,
   "id": "5f3a1b83",
   "metadata": {},
   "outputs": [],
   "source": [
    "##5.\tPrint the list of numbers from 100 to 999 with an interval (step size) of 8 between the numbers"
   ]
  },
  {
   "cell_type": "code",
   "execution_count": 26,
   "id": "c2f624a0",
   "metadata": {},
   "outputs": [
    {
     "data": {
      "text/plain": [
       "[100,\n",
       " 108,\n",
       " 116,\n",
       " 124,\n",
       " 132,\n",
       " 140,\n",
       " 148,\n",
       " 156,\n",
       " 164,\n",
       " 172,\n",
       " 180,\n",
       " 188,\n",
       " 196,\n",
       " 204,\n",
       " 212,\n",
       " 220,\n",
       " 228,\n",
       " 236,\n",
       " 244,\n",
       " 252,\n",
       " 260,\n",
       " 268,\n",
       " 276,\n",
       " 284,\n",
       " 292,\n",
       " 300,\n",
       " 308,\n",
       " 316,\n",
       " 324,\n",
       " 332,\n",
       " 340,\n",
       " 348,\n",
       " 356,\n",
       " 364,\n",
       " 372,\n",
       " 380,\n",
       " 388,\n",
       " 396,\n",
       " 404,\n",
       " 412,\n",
       " 420,\n",
       " 428,\n",
       " 436,\n",
       " 444,\n",
       " 452,\n",
       " 460,\n",
       " 468,\n",
       " 476,\n",
       " 484,\n",
       " 492,\n",
       " 500,\n",
       " 508,\n",
       " 516,\n",
       " 524,\n",
       " 532,\n",
       " 540,\n",
       " 548,\n",
       " 556,\n",
       " 564,\n",
       " 572,\n",
       " 580,\n",
       " 588,\n",
       " 596,\n",
       " 604,\n",
       " 612,\n",
       " 620,\n",
       " 628,\n",
       " 636,\n",
       " 644,\n",
       " 652,\n",
       " 660,\n",
       " 668,\n",
       " 676,\n",
       " 684,\n",
       " 692,\n",
       " 700,\n",
       " 708,\n",
       " 716,\n",
       " 724,\n",
       " 732,\n",
       " 740,\n",
       " 748,\n",
       " 756,\n",
       " 764,\n",
       " 772,\n",
       " 780,\n",
       " 788,\n",
       " 796,\n",
       " 804,\n",
       " 812,\n",
       " 820,\n",
       " 828,\n",
       " 836,\n",
       " 844,\n",
       " 852,\n",
       " 860,\n",
       " 868,\n",
       " 876,\n",
       " 884,\n",
       " 892,\n",
       " 900,\n",
       " 908,\n",
       " 916,\n",
       " 924,\n",
       " 932,\n",
       " 940,\n",
       " 948,\n",
       " 956,\n",
       " 964,\n",
       " 972,\n",
       " 980,\n",
       " 988,\n",
       " 996]"
      ]
     },
     "execution_count": 26,
     "metadata": {},
     "output_type": "execute_result"
    }
   ],
   "source": [
    "list(range(100, 999, 8))"
   ]
  },
  {
   "cell_type": "code",
   "execution_count": 22,
   "id": "c6c7190d",
   "metadata": {},
   "outputs": [],
   "source": [
    "## 6.\tWrite a “for” loop to print out the ‘n’ values and break out of the statement if the value is ‘n/2’"
   ]
  },
  {
   "cell_type": "code",
   "execution_count": 37,
   "id": "97d87a7d",
   "metadata": {},
   "outputs": [
    {
     "name": "stdout",
     "output_type": "stream",
     "text": [
      "1\n",
      "2\n",
      "3\n",
      "4\n",
      "5\n"
     ]
    }
   ],
   "source": [
    "n=10\n",
    "for i in range(1,n):\n",
    "    print(i)\n",
    "    if(i == n/2):\n",
    "        break"
   ]
  },
  {
   "cell_type": "code",
   "execution_count": 38,
   "id": "ed8425b6",
   "metadata": {},
   "outputs": [],
   "source": [
    "##7.\tWrite a simple function and call the docstring from outside the function"
   ]
  },
  {
   "cell_type": "code",
   "execution_count": 39,
   "id": "cb746c8e",
   "metadata": {},
   "outputs": [],
   "source": [
    "def addition_function(a, b):\n",
    "    \"\"\"Function to add two number\"\"\"\n",
    "    return a + b"
   ]
  },
  {
   "cell_type": "code",
   "execution_count": 40,
   "id": "6ae80964",
   "metadata": {},
   "outputs": [
    {
     "name": "stdout",
     "output_type": "stream",
     "text": [
      "17\n"
     ]
    }
   ],
   "source": [
    "print(addition_function(5, 12))"
   ]
  },
  {
   "cell_type": "code",
   "execution_count": 41,
   "id": "9f4880b0",
   "metadata": {},
   "outputs": [
    {
     "name": "stdout",
     "output_type": "stream",
     "text": [
      "Function to add two number\n"
     ]
    }
   ],
   "source": [
    "print(addition_function.__doc__)"
   ]
  },
  {
   "cell_type": "code",
   "execution_count": 42,
   "id": "ec56d88a",
   "metadata": {},
   "outputs": [],
   "source": [
    "##8.\tCreate a user-defined package in ‘site-packages’ with below 3 variables a, b and c. Import these variables and write a function to calculate the area of triangle for below 3 sides (a, b, c). Calculate the semi-perimeter (s) first, to calculate the area of triangle (area) at last"
   ]
  },
  {
   "cell_type": "code",
   "execution_count": 43,
   "id": "a7ff339a",
   "metadata": {},
   "outputs": [
    {
     "ename": "ModuleNotFoundError",
     "evalue": "No module named 'test_package'",
     "output_type": "error",
     "traceback": [
      "\u001b[1;31m---------------------------------------------------------------------------\u001b[0m",
      "\u001b[1;31mModuleNotFoundError\u001b[0m                       Traceback (most recent call last)",
      "\u001b[1;32m~\\AppData\\Local\\Temp/ipykernel_33968/4003453904.py\u001b[0m in \u001b[0;36m<module>\u001b[1;34m\u001b[0m\n\u001b[1;32m----> 1\u001b[1;33m \u001b[1;32mimport\u001b[0m \u001b[0mtest_package\u001b[0m \u001b[1;32mas\u001b[0m \u001b[0mTP\u001b[0m\u001b[1;33m\u001b[0m\u001b[1;33m\u001b[0m\u001b[0m\n\u001b[0m",
      "\u001b[1;31mModuleNotFoundError\u001b[0m: No module named 'test_package'"
     ]
    }
   ],
   "source": [
    "import test_package as TP"
   ]
  },
  {
   "cell_type": "code",
   "execution_count": 44,
   "id": "43b84134",
   "metadata": {},
   "outputs": [],
   "source": [
    "from my_package import test_package as TP"
   ]
  },
  {
   "cell_type": "code",
   "execution_count": 45,
   "id": "8648cd2e",
   "metadata": {},
   "outputs": [],
   "source": [
    "##Formula to calculate semi-perimeter"
   ]
  },
  {
   "cell_type": "code",
   "execution_count": 46,
   "id": "c25729be",
   "metadata": {},
   "outputs": [
    {
     "name": "stdout",
     "output_type": "stream",
     "text": [
      "35.0\n"
     ]
    }
   ],
   "source": [
    "s = (TP.a+TP.b+TP.c)/2\n",
    "print(s)"
   ]
  },
  {
   "cell_type": "code",
   "execution_count": 47,
   "id": "1de11c6f",
   "metadata": {},
   "outputs": [],
   "source": [
    "##<< Formula to calculate area of Triangle"
   ]
  },
  {
   "cell_type": "code",
   "execution_count": 48,
   "id": "9f3f66db",
   "metadata": {},
   "outputs": [],
   "source": [
    "AreaTA = (s*(s-TP.a) * (s-TP.b) * (s-TP.c)) ** 0.5 "
   ]
  },
  {
   "cell_type": "code",
   "execution_count": 49,
   "id": "5260cb99",
   "metadata": {},
   "outputs": [
    {
     "name": "stdout",
     "output_type": "stream",
     "text": [
      "(1.5686119320691177e-14+256.17376914898995j)\n"
     ]
    }
   ],
   "source": [
    "print(AreaTA)"
   ]
  },
  {
   "cell_type": "code",
   "execution_count": 50,
   "id": "a90f96c0",
   "metadata": {},
   "outputs": [],
   "source": [
    "##9.\tWrite a list comprehension to print the odd numbers from 0 to 100"
   ]
  },
  {
   "cell_type": "code",
   "execution_count": 52,
   "id": "c87f0fb1",
   "metadata": {},
   "outputs": [
    {
     "data": {
      "text/plain": [
       "[1,\n",
       " 3,\n",
       " 5,\n",
       " 7,\n",
       " 9,\n",
       " 11,\n",
       " 13,\n",
       " 15,\n",
       " 17,\n",
       " 19,\n",
       " 21,\n",
       " 23,\n",
       " 25,\n",
       " 27,\n",
       " 29,\n",
       " 31,\n",
       " 33,\n",
       " 35,\n",
       " 37,\n",
       " 39,\n",
       " 41,\n",
       " 43,\n",
       " 45,\n",
       " 47,\n",
       " 49,\n",
       " 51,\n",
       " 53,\n",
       " 55,\n",
       " 57,\n",
       " 59,\n",
       " 61,\n",
       " 63,\n",
       " 65,\n",
       " 67,\n",
       " 69,\n",
       " 71,\n",
       " 73,\n",
       " 75,\n",
       " 77,\n",
       " 79,\n",
       " 81,\n",
       " 83,\n",
       " 85,\n",
       " 87,\n",
       " 89,\n",
       " 91,\n",
       " 93,\n",
       " 95,\n",
       " 97,\n",
       " 99]"
      ]
     },
     "execution_count": 52,
     "metadata": {},
     "output_type": "execute_result"
    }
   ],
   "source": [
    "list(range(1, 100, 2))"
   ]
  },
  {
   "cell_type": "code",
   "execution_count": 53,
   "id": "9519fe21",
   "metadata": {},
   "outputs": [],
   "source": [
    "##10.\t Create a variable (ex: name) and store your full name in it. Then write a list comprehension to print your name excluding vowels (a, e, i, o, u)"
   ]
  },
  {
   "cell_type": "code",
   "execution_count": 56,
   "id": "2af4a773",
   "metadata": {},
   "outputs": [
    {
     "name": "stdout",
     "output_type": "stream",
     "text": [
      "enter a string with some vowels: NANDAKUMAR\n",
      "input string: NANDAKUMAR\n",
      "found a vowel, removing...\n",
      "found a vowel, removing...\n",
      "found a vowel, removing...\n",
      "found a vowel, removing...\n",
      "I've removed the vowels for you. You're welcome! The new string is: NNDKMR\n"
     ]
    }
   ],
   "source": [
    "user_input = input(\"enter a string with some vowels: \")\n",
    "print(\"input string: \" + str(user_input))\n",
    "vowels = ('a','e','i','o','u','A','E','I','O','U')\n",
    "new_string=\"\";\n",
    "for i in range(0,len(user_input),1):\n",
    "    if user_input[i] in vowels:\n",
    "        print ('found a vowel, removing...')\n",
    "    else:\n",
    "        new_string+=user_input[i]\n",
    "print(\"I've removed the vowels for you. You're welcome! The new string is: \" + new_string)"
   ]
  },
  {
   "cell_type": "code",
   "execution_count": null,
   "id": "7296014f",
   "metadata": {},
   "outputs": [],
   "source": []
  }
 ],
 "metadata": {
  "kernelspec": {
   "display_name": "Python 3 (ipykernel)",
   "language": "python",
   "name": "python3"
  },
  "language_info": {
   "codemirror_mode": {
    "name": "ipython",
    "version": 3
   },
   "file_extension": ".py",
   "mimetype": "text/x-python",
   "name": "python",
   "nbconvert_exporter": "python",
   "pygments_lexer": "ipython3",
   "version": "3.9.7"
  }
 },
 "nbformat": 4,
 "nbformat_minor": 5
}
