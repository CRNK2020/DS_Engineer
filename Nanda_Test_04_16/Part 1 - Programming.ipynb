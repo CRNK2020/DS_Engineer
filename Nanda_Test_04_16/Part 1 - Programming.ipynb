{
 "cells": [
  {
   "cell_type": "markdown",
   "id": "998656a1",
   "metadata": {},
   "source": [
    "# 1. Check the all numbers are unique."
   ]
  },
  {
   "cell_type": "code",
   "execution_count": 3,
   "id": "2dc566be",
   "metadata": {},
   "outputs": [
    {
     "name": "stdout",
     "output_type": "stream",
     "text": [
      "True\n",
      "False\n"
     ]
    }
   ],
   "source": [
    "def check_unique_numbers(data):\n",
    "    if len(data) == len(set(data)):\n",
    "        return True\n",
    "    else:\n",
    "        return False\n",
    "print(check_unique_numbers([1,2,3,4,5]))\n",
    "print(check_unique_numbers([6,2,7,7,8,4,9,10]))"
   ]
  },
  {
   "cell_type": "markdown",
   "id": "9c9cee73",
   "metadata": {},
   "source": [
    "# 2. The average of a set of integers"
   ]
  },
  {
   "cell_type": "code",
   "execution_count": 5,
   "id": "388b0677",
   "metadata": {},
   "outputs": [
    {
     "name": "stdout",
     "output_type": "stream",
     "text": [
      "Enter the number integers5\n",
      "Enter the number:2\n",
      "Enter the number:4\n",
      "Enter the number:6\n",
      "Enter the number:8\n",
      "Enter the number:10\n",
      "AVerage of the number 6.0\n"
     ]
    }
   ],
   "source": [
    "n = int(input(\"Enter the number integers\"))\n",
    "a = []\n",
    "for i in range(0,n):\n",
    "    Number=int(input(\"Enter the number:\"))\n",
    "    a.append(Number)\n",
    "avg = sum(a)/n\n",
    "print(\"AVerage of the number\", round(avg,2))"
   ]
  },
  {
   "cell_type": "markdown",
   "id": "5d824c2c",
   "metadata": {},
   "source": [
    "# 3. Check whether the given integer is a multiple of both 5 and 7"
   ]
  },
  {
   "cell_type": "code",
   "execution_count": 13,
   "id": "12bc6f22",
   "metadata": {},
   "outputs": [
    {
     "name": "stdout",
     "output_type": "stream",
     "text": [
      "Enter the Start number:1\n",
      "Enter the End number:200\n",
      "35\n",
      "70\n",
      "105\n",
      "140\n",
      "175\n"
     ]
    }
   ],
   "source": [
    "StartNumber = int(input(\"Enter the Start number:\"))\n",
    "EndNumber = int(input(\"Enter the End number:\"))\n",
    "for x in range(StartNumber, EndNumber+1):\n",
    "    if (x %7 == 0) and (x % 5 == 0):\n",
    "        print(x)"
   ]
  },
  {
   "cell_type": "markdown",
   "id": "c3a1342a",
   "metadata": {},
   "source": [
    "# 4.  Display the given integer in reverse manner"
   ]
  },
  {
   "cell_type": "code",
   "execution_count": 15,
   "id": "bb8023b2",
   "metadata": {},
   "outputs": [
    {
     "name": "stdout",
     "output_type": "stream",
     "text": [
      "258\n"
     ]
    }
   ],
   "source": [
    "num = 852\n",
    "rev_num = 0\n",
    "\n",
    "while num != 0:\n",
    "    mod_out = num%10\n",
    "    rev_num = rev_num * 10 + mod_out\n",
    "    num //= 10\n",
    "    \n",
    "print(rev_num)"
   ]
  },
  {
   "cell_type": "code",
   "execution_count": null,
   "id": "e627f6c3",
   "metadata": {},
   "outputs": [],
   "source": []
  }
 ],
 "metadata": {
  "kernelspec": {
   "display_name": "Python 3 (ipykernel)",
   "language": "python",
   "name": "python3"
  },
  "language_info": {
   "codemirror_mode": {
    "name": "ipython",
    "version": 3
   },
   "file_extension": ".py",
   "mimetype": "text/x-python",
   "name": "python",
   "nbconvert_exporter": "python",
   "pygments_lexer": "ipython3",
   "version": "3.9.7"
  }
 },
 "nbformat": 4,
 "nbformat_minor": 5
}
